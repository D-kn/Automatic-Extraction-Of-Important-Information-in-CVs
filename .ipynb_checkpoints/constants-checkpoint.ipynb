{
 "cells": [
  {
   "cell_type": "code",
   "execution_count": null,
   "metadata": {
    "colab": {
     "base_uri": "https://localhost:8080/"
    },
    "executionInfo": {
     "elapsed": 999,
     "status": "ok",
     "timestamp": 1614240727803,
     "user": {
      "displayName": "KANKUE ALOGUIDI KUDJOH",
      "photoUrl": "",
      "userId": "10708124459872631573"
     },
     "user_tz": -420
    },
    "id": "D4ql9aVBDZXX",
    "outputId": "18566295-b1f1-40f5-f6f2-866b594c21fb"
   },
   "outputs": [
    {
     "name": "stdout",
     "output_type": "stream",
     "text": [
      "[nltk_data] Downloading package stopwords to /root/nltk_data...\n",
      "[nltk_data]   Package stopwords is already up-to-date!\n",
      "[nltk_data] Downloading package punkt to /root/nltk_data...\n",
      "[nltk_data]   Package punkt is already up-to-date!\n",
      "[nltk_data] Downloading package averaged_perceptron_tagger to\n",
      "[nltk_data]     /root/nltk_data...\n",
      "[nltk_data]   Package averaged_perceptron_tagger is already up-to-\n",
      "[nltk_data]       date!\n",
      "[nltk_data] Downloading package wordnet to /root/nltk_data...\n",
      "[nltk_data]   Package wordnet is already up-to-date!\n"
     ]
    },
    {
     "data": {
      "text/plain": [
       "True"
      ]
     },
     "execution_count": 4,
     "metadata": {
      "tags": []
     },
     "output_type": "execute_result"
    }
   ],
   "source": [
    "import nltk\n",
    "from nltk.corpus import stopwords\n",
    "from nltk.corpus import stopwords\n",
    "from nltk.corpus import wordnet\n",
    "nltk.download('stopwords')\n",
    "nltk.download('punkt')\n",
    "nltk.download('averaged_perceptron_tagger')\n",
    "nltk.download('wordnet')"
   ]
  },
  {
   "cell_type": "code",
   "execution_count": null,
   "metadata": {
    "id": "ra6wDSWlEEaQ"
   },
   "outputs": [],
   "source": [
    "NAME_PATTERN      = [{'POS': 'PROPN'}, {'POS': 'PROPN'}]\n",
    "\n",
    "# Education (Upper Case Mandatory)\n",
    "EDUCATIONS = [\n",
    "            'BE','B.E.', 'B.E', 'BS', 'B.S','C.A.','c.a.','B.Com','B. Com','M. Com', 'M.Com','M. Com .', 'Ingénieur',\n",
    "            'ME','M.E','M.E.','MSc','M.S','BTECH', 'B.TECH','M.TECH', 'MTECH','LICENCE','MASTER','MAITRISE','INGENIEUR'\n",
    "            'PHD','phd', 'ph.d','Ph.D.','MBA','mba','graduate', 'post-graduate','5 year integrated masters','masters',\n",
    "            'SSC','HSC','CBSE','ICSE'\n",
    "        ]\n",
    "\n",
    "NOT_ALPHA_NUMERIC = r'[^a-zA-Z\\d]'\n",
    "\n",
    "NUMBER            = r'\\d+'\n",
    "\n",
    "# For finding date ranges\n",
    "MONTHS_SHORT      = r'(jan)|(feb)|(mar)|(apr)|(may)|(jun)|(jul)|(aug)|(sep)|(oct)|(nov)|(dec)'\n",
    "MONTHS_LONG       = r'(january)|(february)|(march)|(april)|(may)|(june)|(july)|(august)|(september)|(october)|(november)|(december)'\n",
    "MONTH             = r'(' + MONTHS_SHORT + r'|' + MONTHS_LONG + r')'\n",
    "YEAR              = r'(((20|19)(\\d{2})))'\n",
    "\n",
    "STOPWORDS         = set(stopwords.words('english'))\n",
    "\n",
    "EXPERIENCE = [\n",
    "            'experience',\n",
    "            'experience:',\n",
    "            'work',\n",
    "            'history',\n",
    "            'career',\n",
    "            'qualificatio',\n",
    "            'working',\n",
    "            'experiences',\n",
    "            'qualifications',\n",
    "            'qualification',\n",
    "            'employment',\n",
    "            'employers',\n",
    "            'expériences',\n",
    "            'professionnelles',\n",
    "            'expérience',\n",
    "            'professionnelle',\n",
    "            'expérience',\n",
    "            'expériences professionnelles ',\n",
    "            'expérience professionnelle',\n",
    "            'professionelle'\n",
    "            ]\n",
    "\n",
    "RESUME_SECTIONS = [\n",
    "                    'accomplishments',\n",
    "                    'experience',\n",
    "                    'responsibilities',\n",
    "                    'knowledge',\n",
    "                    'certifications',\n",
    "                    'experiences',\n",
    "                    'employment',\n",
    "                    'employers',\n",
    "                    'learning',\n",
    "                    'interests',\n",
    "                    'projects',\n",
    "                    'project',\n",
    "                    'working',\n",
    "                    'compétences',\n",
    "                    'compétence',\n",
    "                    'qualification',\n",
    "                    'qualification:',\n",
    "                    'qualificatio',\n",
    "                    'experiences',\n",
    "                    'professional',\n",
    "                    'publications',\n",
    "                    'career',\n",
    "                    'history',\n",
    "                    'publication',\n",
    "                    'soft',\n",
    "                    'technical',\n",
    "                    'objective',\n",
    "                    'career',\n",
    "                    'trainings',\n",
    "                    'training',\n",
    "                    'profile',\n",
    "                    'experience:',\n",
    "                    'volunteering',\n",
    "                    'volunteer',\n",
    "                    'awards',\n",
    "                    'award',\n",
    "                    'work',\n",
    "                    'achievements',\n",
    "                    'réalisations',\n",
    "                    'réalisation',\n",
    "                    'achievement',\n",
    "                    'honors',\n",
    "                    'qualification',\n",
    "                    'qualifications',\n",
    "                    'activities',\n",
    "                    'activitiés',\n",
    "                    'activitié',\n",
    "                    'expériences professionnelles ',\n",
    "                    'expérience professionnelle ',\n",
    "                    'expérience',\n",
    "                    'expérience',\n",
    "                    'professionelle',\n",
    "                    'professionnelles',\n",
    "                    'professionnelle',\n",
    "                    'professionelles'\n",
    "                ]"
   ]
  }
 ],
 "metadata": {
  "colab": {
   "authorship_tag": "ABX9TyPw1gllaTORguoiL1b/vr9E",
   "collapsed_sections": [],
   "name": "constants.ipynb",
   "provenance": []
  },
  "kernelspec": {
   "display_name": "Python 3",
   "language": "python",
   "name": "python3"
  },
  "language_info": {
   "codemirror_mode": {
    "name": "ipython",
    "version": 3
   },
   "file_extension": ".py",
   "mimetype": "text/x-python",
   "name": "python",
   "nbconvert_exporter": "python",
   "pygments_lexer": "ipython3",
   "version": "3.7.6"
  }
 },
 "nbformat": 4,
 "nbformat_minor": 1
}
